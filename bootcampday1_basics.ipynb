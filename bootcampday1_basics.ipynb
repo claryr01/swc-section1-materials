{
 "cells": [
  {
   "cell_type": "markdown",
   "metadata": {},
   "source": [
    "# hello \n",
    "* item1\n",
    "* item2\n",
    "    * nested\n",
    "    * two"
   ]
  },
  {
   "cell_type": "markdown",
   "metadata": {},
   "source": [
    "$\\sum_a^b \\approx 1$"
   ]
  },
  {
   "cell_type": "code",
   "execution_count": 3,
   "metadata": {},
   "outputs": [
    {
     "name": "stdout",
     "output_type": "stream",
     "text": [
      "Ahmed is 42 years old\n"
     ]
    }
   ],
   "source": [
    "age = 42\n",
    "first_name = 'Ahmed'\n",
    "print(first_name, 'is', age, 'years old')"
   ]
  },
  {
   "cell_type": "code",
   "execution_count": 6,
   "metadata": {},
   "outputs": [
    {
     "name": "stdout",
     "output_type": "stream",
     "text": [
      "bob\n"
     ]
    }
   ],
   "source": [
    "print('bob')"
   ]
  },
  {
   "cell_type": "code",
   "execution_count": 9,
   "metadata": {},
   "outputs": [
    {
     "name": "stdout",
     "output_type": "stream",
     "text": [
      "h\n"
     ]
    }
   ],
   "source": [
    "atom_name = 'helium'\n",
    "print(atom_name[0])  #note that python counts from 0, so the 1st element is the 0th element"
   ]
  },
  {
   "cell_type": "code",
   "execution_count": 11,
   "metadata": {},
   "outputs": [
    {
     "name": "stdout",
     "output_type": "stream",
     "text": [
      "hel\n"
     ]
    }
   ],
   "source": [
    "print(atom_name[0:3]) #does not include last index"
   ]
  },
  {
   "cell_type": "code",
   "execution_count": 14,
   "metadata": {},
   "outputs": [
    {
     "name": "stdout",
     "output_type": "stream",
     "text": [
      "i\n"
     ]
    }
   ],
   "source": [
    "print(atom_name[3])"
   ]
  },
  {
   "cell_type": "code",
   "execution_count": 16,
   "metadata": {},
   "outputs": [
    {
     "name": "stdout",
     "output_type": "stream",
     "text": [
      "6\n"
     ]
    }
   ],
   "source": [
    "print(len(atom_name))"
   ]
  },
  {
   "cell_type": "code",
   "execution_count": 18,
   "metadata": {},
   "outputs": [
    {
     "name": "stdout",
     "output_type": "stream",
     "text": [
      "helium\n"
     ]
    }
   ],
   "source": [
    "print(atom_name[0:len(atom_name)])"
   ]
  },
  {
   "cell_type": "code",
   "execution_count": 20,
   "metadata": {},
   "outputs": [
    {
     "name": "stdout",
     "output_type": "stream",
     "text": [
      "123\n",
      "2\n"
     ]
    }
   ],
   "source": [
    "a = 123\n",
    "print(a)\n",
    "b = str(a)\n",
    "print(b[1])"
   ]
  },
  {
   "cell_type": "code",
   "execution_count": 22,
   "metadata": {},
   "outputs": [
    {
     "name": "stdout",
     "output_type": "stream",
     "text": [
      "helium\n"
     ]
    }
   ],
   "source": [
    "print(atom_name[0:])"
   ]
  },
  {
   "cell_type": "code",
   "execution_count": 24,
   "metadata": {},
   "outputs": [
    {
     "name": "stdout",
     "output_type": "stream",
     "text": [
      "<class 'str'>\n"
     ]
    }
   ],
   "source": [
    "print(type(atom_name))"
   ]
  },
  {
   "cell_type": "code",
   "execution_count": 26,
   "metadata": {},
   "outputs": [
    {
     "data": {
      "text/plain": [
       "1.6666666666666667"
      ]
     },
     "execution_count": 26,
     "metadata": {},
     "output_type": "execute_result"
    }
   ],
   "source": [
    "5/3"
   ]
  },
  {
   "cell_type": "code",
   "execution_count": 31,
   "metadata": {},
   "outputs": [
    {
     "data": {
      "text/plain": [
       "1"
      ]
     },
     "execution_count": 31,
     "metadata": {},
     "output_type": "execute_result"
    }
   ],
   "source": [
    "5//3 #truncates"
   ]
  },
  {
   "cell_type": "code",
   "execution_count": 29,
   "metadata": {},
   "outputs": [
    {
     "data": {
      "text/plain": [
       "2"
      ]
     },
     "execution_count": 29,
     "metadata": {},
     "output_type": "execute_result"
    }
   ],
   "source": [
    "5%3 #remainder"
   ]
  },
  {
   "cell_type": "code",
   "execution_count": 34,
   "metadata": {},
   "outputs": [],
   "source": [
    "#if you make a mistake and break something, delete that cells, then go to Kernel, restart kernel \n",
    "#and run all cells\n",
    "\n",
    "#can also clean all outputs"
   ]
  },
  {
   "cell_type": "code",
   "execution_count": 36,
   "metadata": {},
   "outputs": [],
   "source": [
    "import math #importing math library"
   ]
  },
  {
   "cell_type": "code",
   "execution_count": 38,
   "metadata": {},
   "outputs": [
    {
     "data": {
      "text/plain": [
       "3.141592653589793"
      ]
     },
     "execution_count": 38,
     "metadata": {},
     "output_type": "execute_result"
    }
   ],
   "source": [
    "math.pi"
   ]
  },
  {
   "cell_type": "code",
   "execution_count": 44,
   "metadata": {},
   "outputs": [
    {
     "data": {
      "text/plain": [
       "-1.0"
      ]
     },
     "execution_count": 44,
     "metadata": {},
     "output_type": "execute_result"
    }
   ],
   "source": [
    "math.cos(math.pi) #nameofmodule.nameofcomponent"
   ]
  },
  {
   "cell_type": "code",
   "execution_count": 46,
   "metadata": {},
   "outputs": [
    {
     "name": "stdout",
     "output_type": "stream",
     "text": [
      "Help on built-in module math:\n",
      "\n",
      "NAME\n",
      "    math\n",
      "\n",
      "DESCRIPTION\n",
      "    This module provides access to the mathematical functions\n",
      "    defined by the C standard.\n",
      "\n",
      "FUNCTIONS\n",
      "    acos(x, /)\n",
      "        Return the arc cosine (measured in radians) of x.\n",
      "    \n",
      "    acosh(x, /)\n",
      "        Return the inverse hyperbolic cosine of x.\n",
      "    \n",
      "    asin(x, /)\n",
      "        Return the arc sine (measured in radians) of x.\n",
      "    \n",
      "    asinh(x, /)\n",
      "        Return the inverse hyperbolic sine of x.\n",
      "    \n",
      "    atan(x, /)\n",
      "        Return the arc tangent (measured in radians) of x.\n",
      "    \n",
      "    atan2(y, x, /)\n",
      "        Return the arc tangent (measured in radians) of y/x.\n",
      "        \n",
      "        Unlike atan(y/x), the signs of both x and y are considered.\n",
      "    \n",
      "    atanh(x, /)\n",
      "        Return the inverse hyperbolic tangent of x.\n",
      "    \n",
      "    ceil(x, /)\n",
      "        Return the ceiling of x as an Integral.\n",
      "        \n",
      "        This is the smallest integer >= x.\n",
      "    \n",
      "    copysign(x, y, /)\n",
      "        Return a float with the magnitude (absolute value) of x but the sign of y.\n",
      "        \n",
      "        On platforms that support signed zeros, copysign(1.0, -0.0)\n",
      "        returns -1.0.\n",
      "    \n",
      "    cos(x, /)\n",
      "        Return the cosine of x (measured in radians).\n",
      "    \n",
      "    cosh(x, /)\n",
      "        Return the hyperbolic cosine of x.\n",
      "    \n",
      "    degrees(x, /)\n",
      "        Convert angle x from radians to degrees.\n",
      "    \n",
      "    erf(x, /)\n",
      "        Error function at x.\n",
      "    \n",
      "    erfc(x, /)\n",
      "        Complementary error function at x.\n",
      "    \n",
      "    exp(x, /)\n",
      "        Return e raised to the power of x.\n",
      "    \n",
      "    expm1(x, /)\n",
      "        Return exp(x)-1.\n",
      "        \n",
      "        This function avoids the loss of precision involved in the direct evaluation of exp(x)-1 for small x.\n",
      "    \n",
      "    fabs(x, /)\n",
      "        Return the absolute value of the float x.\n",
      "    \n",
      "    factorial(x, /)\n",
      "        Find x!.\n",
      "        \n",
      "        Raise a ValueError if x is negative or non-integral.\n",
      "    \n",
      "    floor(x, /)\n",
      "        Return the floor of x as an Integral.\n",
      "        \n",
      "        This is the largest integer <= x.\n",
      "    \n",
      "    fmod(x, y, /)\n",
      "        Return fmod(x, y), according to platform C.\n",
      "        \n",
      "        x % y may differ.\n",
      "    \n",
      "    frexp(x, /)\n",
      "        Return the mantissa and exponent of x, as pair (m, e).\n",
      "        \n",
      "        m is a float and e is an int, such that x = m * 2.**e.\n",
      "        If x is 0, m and e are both 0.  Else 0.5 <= abs(m) < 1.0.\n",
      "    \n",
      "    fsum(seq, /)\n",
      "        Return an accurate floating point sum of values in the iterable seq.\n",
      "        \n",
      "        Assumes IEEE-754 floating point arithmetic.\n",
      "    \n",
      "    gamma(x, /)\n",
      "        Gamma function at x.\n",
      "    \n",
      "    gcd(x, y, /)\n",
      "        greatest common divisor of x and y\n",
      "    \n",
      "    hypot(x, y, /)\n",
      "        Return the Euclidean distance, sqrt(x*x + y*y).\n",
      "    \n",
      "    isclose(a, b, *, rel_tol=1e-09, abs_tol=0.0)\n",
      "        Determine whether two floating point numbers are close in value.\n",
      "        \n",
      "          rel_tol\n",
      "            maximum difference for being considered \"close\", relative to the\n",
      "            magnitude of the input values\n",
      "          abs_tol\n",
      "            maximum difference for being considered \"close\", regardless of the\n",
      "            magnitude of the input values\n",
      "        \n",
      "        Return True if a is close in value to b, and False otherwise.\n",
      "        \n",
      "        For the values to be considered close, the difference between them\n",
      "        must be smaller than at least one of the tolerances.\n",
      "        \n",
      "        -inf, inf and NaN behave similarly to the IEEE 754 Standard.  That\n",
      "        is, NaN is not close to anything, even itself.  inf and -inf are\n",
      "        only close to themselves.\n",
      "    \n",
      "    isfinite(x, /)\n",
      "        Return True if x is neither an infinity nor a NaN, and False otherwise.\n",
      "    \n",
      "    isinf(x, /)\n",
      "        Return True if x is a positive or negative infinity, and False otherwise.\n",
      "    \n",
      "    isnan(x, /)\n",
      "        Return True if x is a NaN (not a number), and False otherwise.\n",
      "    \n",
      "    ldexp(x, i, /)\n",
      "        Return x * (2**i).\n",
      "        \n",
      "        This is essentially the inverse of frexp().\n",
      "    \n",
      "    lgamma(x, /)\n",
      "        Natural logarithm of absolute value of Gamma function at x.\n",
      "    \n",
      "    log(...)\n",
      "        log(x, [base=math.e])\n",
      "        Return the logarithm of x to the given base.\n",
      "        \n",
      "        If the base not specified, returns the natural logarithm (base e) of x.\n",
      "    \n",
      "    log10(x, /)\n",
      "        Return the base 10 logarithm of x.\n",
      "    \n",
      "    log1p(x, /)\n",
      "        Return the natural logarithm of 1+x (base e).\n",
      "        \n",
      "        The result is computed in a way which is accurate for x near zero.\n",
      "    \n",
      "    log2(x, /)\n",
      "        Return the base 2 logarithm of x.\n",
      "    \n",
      "    modf(x, /)\n",
      "        Return the fractional and integer parts of x.\n",
      "        \n",
      "        Both results carry the sign of x and are floats.\n",
      "    \n",
      "    pow(x, y, /)\n",
      "        Return x**y (x to the power of y).\n",
      "    \n",
      "    radians(x, /)\n",
      "        Convert angle x from degrees to radians.\n",
      "    \n",
      "    remainder(x, y, /)\n",
      "        Difference between x and the closest integer multiple of y.\n",
      "        \n",
      "        Return x - n*y where n*y is the closest integer multiple of y.\n",
      "        In the case where x is exactly halfway between two multiples of\n",
      "        y, the nearest even value of n is used. The result is always exact.\n",
      "    \n",
      "    sin(x, /)\n",
      "        Return the sine of x (measured in radians).\n",
      "    \n",
      "    sinh(x, /)\n",
      "        Return the hyperbolic sine of x.\n",
      "    \n",
      "    sqrt(x, /)\n",
      "        Return the square root of x.\n",
      "    \n",
      "    tan(x, /)\n",
      "        Return the tangent of x (measured in radians).\n",
      "    \n",
      "    tanh(x, /)\n",
      "        Return the hyperbolic tangent of x.\n",
      "    \n",
      "    trunc(x, /)\n",
      "        Truncates the Real x to the nearest Integral toward 0.\n",
      "        \n",
      "        Uses the __trunc__ magic method.\n",
      "\n",
      "DATA\n",
      "    e = 2.718281828459045\n",
      "    inf = inf\n",
      "    nan = nan\n",
      "    pi = 3.141592653589793\n",
      "    tau = 6.283185307179586\n",
      "\n",
      "FILE\n",
      "    (built-in)\n",
      "\n",
      "\n"
     ]
    }
   ],
   "source": [
    "help(math)"
   ]
  },
  {
   "cell_type": "code",
   "execution_count": 48,
   "metadata": {},
   "outputs": [
    {
     "name": "stdout",
     "output_type": "stream",
     "text": [
      "cos(pi) is -1.0\n"
     ]
    }
   ],
   "source": [
    "from math import pi, cos\n",
    "print('cos(pi) is',cos(pi))"
   ]
  },
  {
   "cell_type": "code",
   "execution_count": 49,
   "metadata": {},
   "outputs": [],
   "source": [
    "import math as m"
   ]
  },
  {
   "cell_type": "code",
   "execution_count": 51,
   "metadata": {},
   "outputs": [
    {
     "data": {
      "text/plain": [
       "3.141592653589793"
      ]
     },
     "execution_count": 51,
     "metadata": {},
     "output_type": "execute_result"
    }
   ],
   "source": [
    "m.pi"
   ]
  },
  {
   "cell_type": "code",
   "execution_count": 53,
   "metadata": {},
   "outputs": [
    {
     "name": "stdout",
     "output_type": "stream",
     "text": [
      "0 A\n"
     ]
    }
   ],
   "source": [
    "from random import randrange\n",
    "bases = 'ACTTGCTTGAC'\n",
    "random_index = randrange(len(bases))\n",
    "print(random_index, bases[random_index])"
   ]
  },
  {
   "cell_type": "code",
   "execution_count": 55,
   "metadata": {},
   "outputs": [],
   "source": [
    "from math import *"
   ]
  },
  {
   "cell_type": "code",
   "execution_count": 57,
   "metadata": {},
   "outputs": [
    {
     "data": {
      "text/plain": [
       "-1.0"
      ]
     },
     "execution_count": 57,
     "metadata": {},
     "output_type": "execute_result"
    }
   ],
   "source": [
    "cos(pi)"
   ]
  },
  {
   "cell_type": "code",
   "execution_count": 59,
   "metadata": {},
   "outputs": [
    {
     "name": "stdout",
     "output_type": "stream",
     "text": [
      "Variable       Type                          Data/Info\n",
      "------------------------------------------------------\n",
      "a              int                           123\n",
      "acos           builtin_function_or_method    <built-in function acos>\n",
      "acosh          builtin_function_or_method    <built-in function acosh>\n",
      "age            int                           42\n",
      "asin           builtin_function_or_method    <built-in function asin>\n",
      "asinh          builtin_function_or_method    <built-in function asinh>\n",
      "atan           builtin_function_or_method    <built-in function atan>\n",
      "atan2          builtin_function_or_method    <built-in function atan2>\n",
      "atanh          builtin_function_or_method    <built-in function atanh>\n",
      "atom_name      str                           helium\n",
      "b              str                           123\n",
      "bases          str                           ACTTGCTTGAC\n",
      "ceil           builtin_function_or_method    <built-in function ceil>\n",
      "copysign       builtin_function_or_method    <built-in function copysign>\n",
      "cos            builtin_function_or_method    <built-in function cos>\n",
      "cosh           builtin_function_or_method    <built-in function cosh>\n",
      "degrees        builtin_function_or_method    <built-in function degrees>\n",
      "e              float                         2.718281828459045\n",
      "erf            builtin_function_or_method    <built-in function erf>\n",
      "erfc           builtin_function_or_method    <built-in function erfc>\n",
      "exp            builtin_function_or_method    <built-in function exp>\n",
      "expm1          builtin_function_or_method    <built-in function expm1>\n",
      "fabs           builtin_function_or_method    <built-in function fabs>\n",
      "factorial      builtin_function_or_method    <built-in function factorial>\n",
      "first_name     str                           Ahmed\n",
      "floor          builtin_function_or_method    <built-in function floor>\n",
      "fmod           builtin_function_or_method    <built-in function fmod>\n",
      "frexp          builtin_function_or_method    <built-in function frexp>\n",
      "fsum           builtin_function_or_method    <built-in function fsum>\n",
      "gamma          builtin_function_or_method    <built-in function gamma>\n",
      "gcd            builtin_function_or_method    <built-in function gcd>\n",
      "hypot          builtin_function_or_method    <built-in function hypot>\n",
      "inf            float                         inf\n",
      "isclose        builtin_function_or_method    <built-in function isclose>\n",
      "isfinite       builtin_function_or_method    <built-in function isfinite>\n",
      "isinf          builtin_function_or_method    <built-in function isinf>\n",
      "isnan          builtin_function_or_method    <built-in function isnan>\n",
      "ldexp          builtin_function_or_method    <built-in function ldexp>\n",
      "lgamma         builtin_function_or_method    <built-in function lgamma>\n",
      "log            builtin_function_or_method    <built-in function log>\n",
      "log10          builtin_function_or_method    <built-in function log10>\n",
      "log1p          builtin_function_or_method    <built-in function log1p>\n",
      "log2           builtin_function_or_method    <built-in function log2>\n",
      "m              module                        <module 'math' (built-in)>\n",
      "math           module                        <module 'math' (built-in)>\n",
      "modf           builtin_function_or_method    <built-in function modf>\n",
      "nan            float                         nan\n",
      "pi             float                         3.141592653589793\n",
      "pow            builtin_function_or_method    <built-in function pow>\n",
      "radians        builtin_function_or_method    <built-in function radians>\n",
      "random_index   int                           0\n",
      "randrange      method                        <bound method Random.rand<...>t at 0x0000018CD113D998>>\n",
      "remainder      builtin_function_or_method    <built-in function remainder>\n",
      "sin            builtin_function_or_method    <built-in function sin>\n",
      "sinh           builtin_function_or_method    <built-in function sinh>\n",
      "sqrt           builtin_function_or_method    <built-in function sqrt>\n",
      "tan            builtin_function_or_method    <built-in function tan>\n",
      "tanh           builtin_function_or_method    <built-in function tanh>\n",
      "tau            float                         6.283185307179586\n",
      "trunc          builtin_function_or_method    <built-in function trunc>\n"
     ]
    }
   ],
   "source": [
    "%whos"
   ]
  },
  {
   "cell_type": "code",
   "execution_count": 60,
   "metadata": {},
   "outputs": [
    {
     "name": "stdout",
     "output_type": "stream",
     "text": [
      "Variable       Type                          Data/Info\n",
      "------------------------------------------------------\n",
      "a              int                           123\n",
      "acos           builtin_function_or_method    <built-in function acos>\n",
      "acosh          builtin_function_or_method    <built-in function acosh>\n",
      "age            int                           42\n",
      "asin           builtin_function_or_method    <built-in function asin>\n",
      "asinh          builtin_function_or_method    <built-in function asinh>\n",
      "atan           builtin_function_or_method    <built-in function atan>\n",
      "atan2          builtin_function_or_method    <built-in function atan2>\n",
      "atanh          builtin_function_or_method    <built-in function atanh>\n",
      "atom_name      str                           helium\n",
      "b              str                           123\n",
      "bases          str                           ACTTGCTTGAC\n",
      "ceil           builtin_function_or_method    <built-in function ceil>\n",
      "copysign       builtin_function_or_method    <built-in function copysign>\n",
      "cos            builtin_function_or_method    <built-in function cos>\n",
      "cosh           builtin_function_or_method    <built-in function cosh>\n",
      "degrees        builtin_function_or_method    <built-in function degrees>\n",
      "e              float                         2.718281828459045\n",
      "erf            builtin_function_or_method    <built-in function erf>\n",
      "erfc           builtin_function_or_method    <built-in function erfc>\n",
      "exp            builtin_function_or_method    <built-in function exp>\n",
      "expm1          builtin_function_or_method    <built-in function expm1>\n",
      "fabs           builtin_function_or_method    <built-in function fabs>\n",
      "factorial      builtin_function_or_method    <built-in function factorial>\n",
      "first_name     str                           Ahmed\n",
      "floor          builtin_function_or_method    <built-in function floor>\n",
      "fmod           builtin_function_or_method    <built-in function fmod>\n",
      "frexp          builtin_function_or_method    <built-in function frexp>\n",
      "fsum           builtin_function_or_method    <built-in function fsum>\n",
      "gamma          builtin_function_or_method    <built-in function gamma>\n",
      "gcd            builtin_function_or_method    <built-in function gcd>\n",
      "hypot          builtin_function_or_method    <built-in function hypot>\n",
      "inf            float                         inf\n",
      "isclose        builtin_function_or_method    <built-in function isclose>\n",
      "isfinite       builtin_function_or_method    <built-in function isfinite>\n",
      "isinf          builtin_function_or_method    <built-in function isinf>\n",
      "isnan          builtin_function_or_method    <built-in function isnan>\n",
      "ldexp          builtin_function_or_method    <built-in function ldexp>\n",
      "lgamma         builtin_function_or_method    <built-in function lgamma>\n",
      "log            builtin_function_or_method    <built-in function log>\n",
      "log10          builtin_function_or_method    <built-in function log10>\n",
      "log1p          builtin_function_or_method    <built-in function log1p>\n",
      "log2           builtin_function_or_method    <built-in function log2>\n",
      "m              module                        <module 'math' (built-in)>\n",
      "math           module                        <module 'math' (built-in)>\n",
      "modf           builtin_function_or_method    <built-in function modf>\n",
      "nan            float                         nan\n",
      "pi             float                         3.141592653589793\n",
      "pow            builtin_function_or_method    <built-in function pow>\n",
      "radians        builtin_function_or_method    <built-in function radians>\n",
      "random_index   int                           0\n",
      "randrange      method                        <bound method Random.rand<...>t at 0x0000018CD113D998>>\n",
      "remainder      builtin_function_or_method    <built-in function remainder>\n",
      "sin            builtin_function_or_method    <built-in function sin>\n",
      "sinh           builtin_function_or_method    <built-in function sinh>\n",
      "sqrt           builtin_function_or_method    <built-in function sqrt>\n",
      "tan            builtin_function_or_method    <built-in function tan>\n",
      "tanh           builtin_function_or_method    <built-in function tanh>\n",
      "tau            float                         6.283185307179586\n",
      "trunc          builtin_function_or_method    <built-in function trunc>\n"
     ]
    }
   ],
   "source": [
    "whos"
   ]
  }
 ],
 "metadata": {
  "kernelspec": {
   "display_name": "Python 3",
   "language": "python",
   "name": "python3"
  },
  "language_info": {
   "codemirror_mode": {
    "name": "ipython",
    "version": 3
   },
   "file_extension": ".py",
   "mimetype": "text/x-python",
   "name": "python",
   "nbconvert_exporter": "python",
   "pygments_lexer": "ipython3",
   "version": "3.7.4"
  }
 },
 "nbformat": 4,
 "nbformat_minor": 4
}
